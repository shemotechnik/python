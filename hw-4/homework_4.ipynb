{
  "cells": [
    {
      "cell_type": "markdown",
      "metadata": {
        "id": "rL70m2sic0jV"
      },
      "source": [
        "# <center> Homework 1 </center>"
      ]
    },
    {
      "cell_type": "markdown",
      "metadata": {
        "id": "JVd5jRlPc0jY"
      },
      "source": [
        "# 0. Где мы сейчас?\n",
        "<img src=\"https://upload.wikimedia.org/wikipedia/commons/thumb/3/38/Jupyter_logo.svg/1200px-Jupyter_logo.svg.png\" width=\"150\">\n",
        "\n",
        "[Jupyter Notebook](https://jupyter.org/) - интерактивная среда для запуска программного кода в браузере. Удобный инструмент для анализа данных, который используется многими специалистами по data science. Позволяет выполнять отдельные ячейки с кодом, а не всю программу сразу, что очень удобно при знакомстве с данными."
      ]
    },
    {
      "cell_type": "markdown",
      "metadata": {
        "id": "k8hj3Kdvc0jZ"
      },
      "source": [
        "# 1. Python\n",
        "> Python - это свободный интерпретируемый объектно-ориентированный расширяемый встраиваемый язык программирования очень высокого уровня\n",
        "\n",
        ">*(Г.Россум, Ф.Л.Дж.Дрейк, Д.С.Откидач \"Язык программирования Python\").*\n",
        "\n",
        "А если без цитат, то питон - это просто очень крутой язык, созданный в 1991 году [Великодушным пожизненным диктатором](https://ru.wikipedia.org/wiki/%D0%92%D0%B5%D0%BB%D0%B8%D0%BA%D0%BE%D0%B4%D1%83%D1%88%D0%BD%D1%8B%D0%B9_%D0%BF%D0%BE%D0%B6%D0%B8%D0%B7%D0%BD%D0%B5%D0%BD%D0%BD%D1%8B%D0%B9_%D0%B4%D0%B8%D0%BA%D1%82%D0%B0%D1%82%D0%BE%D1%80) Гвидо ван Россумом и названный в честь любимого им шоу [Monty Python's Flying Circus](https://en.wikipedia.org/wiki/Monty_Python%27s_Flying_Circus)\n",
        "\n",
        "<img src=\"https://advancelocal-adapter-image-uploads.s3.amazonaws.com/image.oregonlive.com/home/olive-media/width2048/img/tv/photo/2018/10/10/montycastjpg-7ef393e2355a42aa.jpg\" width=\"300\">"
      ]
    },
    {
      "cell_type": "markdown",
      "metadata": {
        "id": "llQ9RXHfc0ja"
      },
      "source": [
        "# 2. Anaconda\n",
        "\n",
        "[Сборка Anaconda](https://www.anaconda.com/products/individual) включает очень много полезных библиотек для анализа данных.\n",
        "\n",
        "Среди наиболее популярных библиотек:\n",
        " - <a href=\"http://numpy.org\">Numpy</a> - это один из основных пакетов для математических вычислений. Он содержит средства для работы с многомерными массивами и высокоуровневыми математическими функциями\n",
        " - <a href=\"https://www.scipy.org/\">SciPy</a> - научные вычисления. Методы оптимизации, интегрирования, модули обработки сигналов и изображений, статистика, линейная алгебра, сплайны, кластеризация и многое другое\n",
        " -  <a href=\"http://pandas.pydata.org/\">Pandas</a> - основная библиотека для обработки и анализа данных. Предназначена для данных разной природы - матричных, панельных данных, временных рядов. Претендует на звание самого мощного и гибкого средства для анализа данных с открытым исходным кодом\n",
        " - <a href=\"http://scikit-learn.org/stable/\">Scikit-learn</a> - реализация очень многих методов машинного обучения с отличной документацией.\n",
        " - <a href=\"http://http://matplotlib.org/\">matplotlib</a> - хорошая библиотека для визуализации данных\n",
        "\n",
        " С этими библиотеками вы будете знакомится дальше на курсе, а пока давайте попрактикуемся в решении базовых задач на  чистом Python."
      ]
    },
    {
      "cell_type": "markdown",
      "metadata": {
        "id": "rfAcLe-Tc0ja"
      },
      "source": [
        "# 3. Задачки"
      ]
    },
    {
      "cell_type": "markdown",
      "metadata": {
        "id": "y7gWqyZpc0jb"
      },
      "source": [
        "## Задача 1\n",
        "$N$ хоббитов делят $K$ кусков эльфийского хлеба поровну, не делящийся нацело остаток остается в корзинке у Сэма. Напишите функцию, которая принимает на вход параметры $N$ и $K$ и возвращает два числа: $x$ - cколько кусков эльфиского хлеба достанется каждому хоббиту, и $y$ - сколько кусков остаётся в корзинке."
      ]
    },
    {
      "cell_type": "code",
      "execution_count": null,
      "metadata": {
        "id": "m9mteFtwc0jb",
        "colab": {
          "base_uri": "https://localhost:8080/"
        },
        "outputId": "45fac428-402f-48fb-be32-838d4f066d75"
      },
      "outputs": [
        {
          "output_type": "stream",
          "name": "stdout",
          "text": [
            "4 2\n"
          ]
        }
      ],
      "source": [
        "def share_bread(N, K):\n",
        "    x = K // N\n",
        "    y = K - x * N\n",
        "    return x, y\n",
        "\n",
        "# если в функции всё верно, то после выполнения этой строчки, не должно выскакивать ошибок\n",
        "assert share_bread(N=3, K=14) == (4, 2)"
      ]
    },
    {
      "cell_type": "markdown",
      "metadata": {
        "id": "i24Th8I7c0jc"
      },
      "source": [
        "## Задача 2\n",
        "\n",
        "В копях Мории хоббиты нашли стену, на которой высечены разные натуральные числа. Согласно древним сказаниям, это даты сражений. Хоббиты знают, что сражения происходили только по високосным годам. Помогите хоббитам определить, является ли год с данным числом датой великого сражения. Если это так, то верните строку \"YOU SHALL PASS\", иначе верните \"YOU SHALL NOT PASS\". Напомним, что в соответствии с хоббитским календарем, год является високосным, если его номер кратен 4, но не кратен 100, а также если он кратен 400."
      ]
    },
    {
      "cell_type": "code",
      "execution_count": null,
      "metadata": {
        "id": "3SnU33pPc0jc"
      },
      "outputs": [],
      "source": [
        "def leap_year(year):\n",
        "    if (year % 4 == 0 and year % 100 != 0) or year % 400 == 0:\n",
        "        return \"YOU SHALL PASS\"\n",
        "    else:\n",
        "        return \"YOU SHALL NOT PASS\"\n",
        "\n",
        "assert leap_year(100) == 'YOU SHALL NOT PASS'"
      ]
    },
    {
      "cell_type": "markdown",
      "metadata": {
        "id": "-oibBIG4c0jd"
      },
      "source": [
        "## Задача 3\n",
        "<img src=\"http://i0.kym-cdn.com/photos/images/original/001/187/255/5e9.gif\" width=300>\n",
        "\n",
        "\n",
        "Для могущественного магического ритуала Гендальфу необходимо быстро подсчитывать площадь своего амулета, который умеет менять размеры. Известно, что амулет имеет форму треугольника и Гендальф знает длину каждой из сторон. Напишите функцию, которая считает площадь амулета по трем сторонам.  \n",
        "\n",
        "**Подсказка:** используйте формулу Герона\n",
        "$$ S = \\sqrt{p(p-a)(p-b)(p-c)} $$\n",
        "$$ p = \\frac{a + b + c}{2}$$\n"
      ]
    },
    {
      "cell_type": "code",
      "execution_count": null,
      "metadata": {
        "id": "Uln7wcTVc0jd"
      },
      "outputs": [],
      "source": [
        "import math\n",
        "\n",
        "def amulet_area(a, b, c):\n",
        "    p = (a + b + c) / 2\n",
        "    S = math.sqrt(p*(p-a)*(p-b)*(p-c))\n",
        "    return S\n",
        "\n",
        "assert amulet_area(3, 4, 5) == 6"
      ]
    },
    {
      "cell_type": "markdown",
      "metadata": {
        "id": "Os5KM6bQc0jd"
      },
      "source": [
        "## Задача 4\n",
        "\n",
        "Хоббиты собираются пешком идти до Мордора и им нужно подсчитать расстояние, которое им предстоит пройти. Хоббиты смогли вспомнить сразу несколько метрик расстояния: евклидово, манхэттена и косинусное, так что ваша задача - написать функцию под каждую из них. Важное условие - используйте только базовые функции для решения.\n",
        "\n",
        "\n",
        "* Евклидово расстояние\n",
        "$$ d(a, b) = \\sqrt{\\sum_i (a_i - b_i)^2} $$\n",
        "* Расстояние Манхэттена\n",
        "$$ d(a, b) = \\sum_i |a_i - b_i| $$\n",
        "* Косинусное расстояние\n",
        "$$ d(a, b) = 1 - \\frac{a^\\top b}{||a||_2\\cdot||b||_2}$$"
      ]
    },
    {
      "cell_type": "code",
      "execution_count": null,
      "metadata": {
        "id": "_21LOuZRc0jd"
      },
      "outputs": [],
      "source": [
        "def cal_euclidean(a, b):\n",
        "    return np.sqrt(sum(pow(x-y, 2) for x, y in zip(a, b)))\n",
        "\n",
        "def cal_manhattan(a, b):\n",
        "    return sum(abs(x - y) for (x, y) in zip(a, b))\n",
        "\n",
        "def cal_cosine(a, b):\n",
        "    dot_product = sum(x * y for x, y in zip(a, b))\n",
        "    norm_a = sum(x**2 for x in a)\n",
        "    norm_b = sum(y**2 for y in b)\n",
        "    return dot_product / (norm_a * norm_b)"
      ]
    },
    {
      "cell_type": "code",
      "execution_count": null,
      "metadata": {
        "id": "fvyqAKchc0je",
        "colab": {
          "base_uri": "https://localhost:8080/"
        },
        "outputId": "a30b1928-ff32-4e0c-cd27-7e50f62b4787"
      },
      "outputs": [
        {
          "output_type": "stream",
          "name": "stdout",
          "text": [
            "[ 2  3  8  5 -1 -5 -2  1  8 -8] [0 9 6 4 8 6 4 6 3 2]\n",
            "20.808652046684813\n",
            "57\n",
            "0.0008099976857208979\n"
          ]
        }
      ],
      "source": [
        "import random\n",
        "import numpy as np\n",
        "\n",
        "a = np.random.randint(-10, 10, size=10)\n",
        "b = np.random.randint(-10, 10, size=10)\n",
        "print(a,b)\n",
        "print(cal_euclidean(a, b))\n",
        "print(cal_manhattan(a, b))\n",
        "print(cal_cosine(a, b))"
      ]
    },
    {
      "cell_type": "markdown",
      "metadata": {
        "id": "w1L3GDw3c0je"
      },
      "source": [
        "## Задача 5* (бонусное неоцениваемое задание)\n",
        "\n",
        "**Замечание:** Поскольку библиотеку numpy мы будем подробно разбирать дальше, то это задание является бонусным, его выполнение необязательно для сдачи ДЗ и не влияет на итоговый балл. Как вариант, можете вернуться к нему после прохождения numpy ;)\n",
        "\n"
      ]
    },
    {
      "cell_type": "markdown",
      "metadata": {
        "id": "aEDIBiRpc0je"
      },
      "source": [
        "Создайте случайный array (`np.random.rand()`) длинной 100. Преобразуйте его так, чтобы\n",
        "* Максимальный элемент(ы) был равен 1\n",
        "* Минимальный элемент(ы) был равен 0\n",
        "* Остальные элементы в интервале от 0 до 1 остаются прежними"
      ]
    },
    {
      "cell_type": "code",
      "execution_count": null,
      "metadata": {
        "id": "AFye6XzXc0je",
        "colab": {
          "base_uri": "https://localhost:8080/"
        },
        "outputId": "3e6e086b-df9f-4978-af79-cdaffed94d53"
      },
      "outputs": [
        {
          "output_type": "stream",
          "name": "stdout",
          "text": [
            "1.0 0.0\n",
            "[0.5192767649069139, 0.7088412855284364, 0.3649239614838983, 0, 0.8491872669511393, 0.5690760346288494, 0.7008410822119531, 0.35032216516451475, 0.22920045040286796, 0.3685000341812539, 0.8270230391175154, 0.3793966325113408, 0.20715401580841564, 0.9098108684980545, 0.2967391447666897, 0.7761179190688391, 0.09322423717090722, 0.5557780774898765, 0.4034417539374303, 0.8763132415274283, 0.7784436954817585, 0.4200155638500168, 0.8440250437458944, 0.26503894044859544, 0.7466197445221039, 0.6649013936718406, 0.2606687548514678, 0.4972094841494683, 0.6644882057277203, 0.9256695477139012, 1, 0.665393885270445, 0.12561712956408, 0.7892530429414314, 0.023023748048521475, 0.4392017139671712, 0.6165226648582759, 0.40488718818695624, 0.8652090823813002, 0.5225567036571132, 0.7866163901881293, 0.0790764896926075, 0.5524720563580947, 0.9513501427645165, 0.16803502677110138, 0.43619311482344114, 0.3338918267604839, 0.7218594213049228, 0.08703208510806415, 0.801202270851738, 0.905736046271393, 0.3415233442165556, 0.3037459932121248, 0.44982574382932183, 0.64437769563993, 0.4734764730211046, 0.7699862924485636, 0.6780294574603539, 0.5982892719468725, 0.258081584232868, 0.15246792898993355, 0.9316769509381313, 0.6879493780344381, 0.39637868565133416, 0.5683169676741653, 0.8464247403257538, 0.8447999173151064, 0.7385859289071989, 0.8203652770173282, 0.1871649206848781, 0.7035985546220831, 0.5027161703920329, 0.6748741588729691, 0.9138445332606505, 0.7642904940643152, 0.4056752217938401, 0.13530584754281638, 0.9490275679582688, 0.6626709987342927, 0.32465306375218395, 0.10605577990692538, 0.43292847630523057, 0.6994466021185224, 0.47956383576731854, 0.49570882629577284, 0.5341219762902129, 0.8918106215269248, 0.49679877361768554, 0.5943289219420337, 0.8062296259316517, 0.30381867901890414, 0.6520830959357801, 0.862259307660545, 0.030363964391559306, 0.489400423810867, 0.2923225590008508, 0.3450220561603706, 0.32967795669765343, 0.7979530210676876, 0.6057584804098958]\n"
          ]
        }
      ],
      "source": [
        "import random\n",
        "import numpy as np\n",
        "\n",
        "\n",
        "my_array = np.random.rand(100)\n",
        "my_array = [1 if x == np.max(my_array) else x for x in my_array]\n",
        "my_array = [0 if x == np.min(my_array) else x for x in my_array]\n",
        "print(np.max(my_array), np.min(my_array))\n",
        "print(my_array)"
      ]
    },
    {
      "cell_type": "markdown",
      "metadata": {
        "id": "D84Jpwmmc0je"
      },
      "source": [
        "Создайте array размером $5 \\times 6$ с целыми числами в интервале [0,50]. Напечатайте колонку, которая содержит максимальный элемент полученной матрицы"
      ]
    },
    {
      "cell_type": "code",
      "execution_count": null,
      "metadata": {
        "id": "SXaKW9bec0je",
        "colab": {
          "base_uri": "https://localhost:8080/"
        },
        "outputId": "cb8cd503-477d-4403-df65-f796b458ccb7"
      },
      "outputs": [
        {
          "output_type": "stream",
          "name": "stdout",
          "text": [
            "максимальное число: 48\n",
            "итоговый столбец: [4, 48, 24, 2, 22]\n",
            "Shape:  (5, 6)\n",
            "Array\n",
            "[[ 4 35 18  8 22 10]\n",
            " [48  8 30 40 14 41]\n",
            " [24 12 48 38 28  5]\n",
            " [ 2 21 28 10  3  2]\n",
            " [22 10  6  3 30 24]]\n"
          ]
        }
      ],
      "source": [
        "import random\n",
        "import numpy as np\n",
        "\n",
        "my_array = np.random.randint(0, 50, size=(5,6))\n",
        "selected_column_number = np.where(my_array == np.max(my_array))[1][0]\n",
        "my_array_column = [my_array[i][k] for i in range(len(my_array)) for k in range(len(my_array[i])) if k == selected_column_number]\n",
        "print('максимальное число:',np.max(my_array))\n",
        "print('итоговый столбец:',my_array_column)\n",
        "print('Shape: ',my_array.shape)\n",
        "print('Array')\n",
        "print(my_array)\n",
        "#print(selected_column)"
      ]
    },
    {
      "cell_type": "markdown",
      "metadata": {
        "id": "g3scUf0_c0je"
      },
      "source": [
        "Напишите функцию, которая принимает на вход матрицу (array) X и возвращает все её уникальные строки в виде новой матрицы."
      ]
    },
    {
      "cell_type": "code",
      "execution_count": 41,
      "metadata": {
        "id": "75j1Kyzvc0je",
        "colab": {
          "base_uri": "https://localhost:8080/"
        },
        "outputId": "3b54a13b-7d82-43b5-98ee-7e108317c292"
      },
      "outputs": [
        {
          "output_type": "stream",
          "name": "stdout",
          "text": [
            "[[5 4 4]\n",
            " [4 4 5]\n",
            " [5 5 5]\n",
            " [4 4 4]\n",
            " [5 5 4]\n",
            " [4 4 5]\n",
            " [4 4 5]\n",
            " [5 5 4]\n",
            " [4 4 4]\n",
            " [4 5 5]]\n"
          ]
        },
        {
          "output_type": "execute_result",
          "data": {
            "text/plain": [
              "[544, 555, 455]"
            ]
          },
          "metadata": {},
          "execution_count": 41
        }
      ],
      "source": [
        "import random\n",
        "import numpy as np\n",
        "\n",
        "def get_unique_rows(X):\n",
        "    result = {}\n",
        "    ret = []\n",
        "    for i in X:\n",
        "        string = str('_'.join(map(str, i)))\n",
        "        if string in result:\n",
        "            result[string] += 1\n",
        "        else:\n",
        "            result[string] = 1\n",
        "\n",
        "    for key in result:\n",
        "        if result[key] == 1:\n",
        "            digits = int(\"\".join(key.split(\"_\")))\n",
        "            ret.append(digits)\n",
        "    return ret\n",
        "\n",
        "X = np.random.randint(4, 6, size=(10,3))\n",
        "print(X)\n",
        "get_unique_rows(X)"
      ]
    }
  ],
  "metadata": {
    "kernelspec": {
      "display_name": "Python 3",
      "language": "python",
      "name": "python3"
    },
    "language_info": {
      "codemirror_mode": {
        "name": "ipython",
        "version": 3
      },
      "file_extension": ".py",
      "mimetype": "text/x-python",
      "name": "python",
      "nbconvert_exporter": "python",
      "pygments_lexer": "ipython3",
      "version": "3.7.6"
    },
    "varInspector": {
      "cols": {
        "lenName": 16,
        "lenType": 16,
        "lenVar": 40
      },
      "kernels_config": {
        "python": {
          "delete_cmd_postfix": "",
          "delete_cmd_prefix": "del ",
          "library": "var_list.py",
          "varRefreshCmd": "print(var_dic_list())"
        },
        "r": {
          "delete_cmd_postfix": ") ",
          "delete_cmd_prefix": "rm(",
          "library": "var_list.r",
          "varRefreshCmd": "cat(var_dic_list()) "
        }
      },
      "types_to_exclude": [
        "module",
        "function",
        "builtin_function_or_method",
        "instance",
        "_Feature"
      ],
      "window_display": false
    },
    "colab": {
      "provenance": []
    }
  },
  "nbformat": 4,
  "nbformat_minor": 0
}